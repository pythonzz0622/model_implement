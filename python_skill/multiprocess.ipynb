{
 "cells": [
  {
   "cell_type": "code",
   "execution_count": 13,
   "id": "0921d00c",
   "metadata": {},
   "outputs": [],
   "source": [
    "from multiprocessing import Pool , cpu_count\n",
    "from time import time\n",
    "\n",
    "def square(x):\n",
    "    [x for x in range(10000)]\n",
    "    return x ** 2\n",
    "\n",
    "n_cpu = cpu_count()\n",
    "print(f'n_cpu = {n_cpu}')\n",
    "p = Pool(n_cpu-1)\n",
    "\n",
    "start = time()\n",
    "for s in p.imap(square , range(900)):\n",
    "    print(f'\\rs = {s}', end ='')\n",
    "end = time()\n",
    "print('\\ntime = {}'.format(end-start))"
   ]
  },
  {
   "cell_type": "code",
   "execution_count": null,
   "id": "c8fc671f",
   "metadata": {},
   "outputs": [],
   "source": [
    "# 데이터를 병렬으로 불러오기 위한 function\n",
    "def parallelize_dataframe(df, func , num_cores):\n",
    "    print('프로세스 개수 :' , num_cores)\n",
    "    print('프로세스 당 데이터 개수 :' , len(df) // num_cores)\n",
    "    # 데이터 나누고, 쓰레드 할당받기\n",
    "    df_split = np.array_split(df, num_cores)\n",
    "    pool = Pool(num_cores)\n",
    "    result = pool.map(func, df_split)\n",
    "    pool.close()\n",
    "    pool.join()\n",
    "\n",
    "    # 결과 합치기\n",
    "    result_1 , result_2 = [] , []\n",
    "    for i in result:\n",
    "        result_1.append(i[0])\n",
    "        result_2.append(i[1])\n",
    "    df_result = pd.concat(result_1 , axis = 0 )\n",
    "    df_item = pd.concat(result_2 , axis = 0 )\n",
    "\n",
    "    return df_result , df_item\n",
    "\n",
    "# json to df\n",
    "def json_loader(data_path):\n",
    "    df = pd.DataFrame()\n",
    "    df_item = pd.DataFrame()\n",
    "    df_error = []\n",
    "\n",
    "    for i ,data_i in enumerate(data_path):\n",
    "        with open(data_i, 'r') as json_read :\n",
    "            json_str = json.load(json_read) # json.load 로 파일 읽기\n",
    "            json_data = json_str['FILE'][0]\n",
    "            # json file path to img file path\n",
    "            data_i = data_i.replace('json', 'jpg')\n",
    "            data_i = data_i.replace('label', 'img')\n",
    "            json_data['FILE_NAME'] = data_i\n",
    "            phase = 'train' if 'train' in data_i else 'val'\n",
    "            json_data['type'] = phase\n",
    "            # get img info\n",
    "            df = df.append( json_data, ignore_index= True)\n",
    "            for json_item in json_data['ITEMS']:\n",
    "                json_item['FILE_NAME'] = json_data['FILE_NAME']\n",
    "                json_item['type'] = phase\n",
    "\n",
    "                # get obj info\n",
    "                df_item = df_item.append(json_item , ignore_index= True)\n",
    "                \n",
    "    return df , df_item\n",
    "\n",
    "\n",
    "df , df_item = parallelize_dataframe(data_all_path , json_loader , mp.cpu_count() // 2)"
   ]
  }
 ],
 "metadata": {
  "kernelspec": {
   "display_name": "Python 3 (ipykernel)",
   "language": "python",
   "name": "python3"
  },
  "language_info": {
   "codemirror_mode": {
    "name": "ipython",
    "version": 3
   },
   "file_extension": ".py",
   "mimetype": "text/x-python",
   "name": "python",
   "nbconvert_exporter": "python",
   "pygments_lexer": "ipython3",
   "version": "3.9.12"
  }
 },
 "nbformat": 4,
 "nbformat_minor": 5
}
