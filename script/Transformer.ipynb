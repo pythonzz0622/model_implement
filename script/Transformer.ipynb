{
 "cells": [
  {
   "cell_type": "markdown",
   "metadata": {
    "pycharm": {
     "name": "#%% md\n"
    }
   },
   "source": [
    "# Transformer (Translation)"
   ]
  },
  {
   "cell_type": "code",
   "execution_count": 1,
   "metadata": {
    "pycharm": {
     "name": "#%%\n"
    }
   },
   "outputs": [
    {
     "name": "stderr",
     "output_type": "stream",
     "text": [
      "/Users/jiwon/opt/anaconda3/lib/python3.9/site-packages/scipy/__init__.py:146: UserWarning: A NumPy version >=1.16.5 and <1.23.0 is required for this version of SciPy (detected version 1.23.5\n",
      "  warnings.warn(f\"A NumPy version >={np_minversion} and <{np_maxversion}\"\n"
     ]
    }
   ],
   "source": [
    "import random\n",
    "import numpy as np\n",
    "import tensorflow as tf\n",
    "from konlpy.tag import Okt\n",
    "\n",
    "from tensorflow.keras import Model\n",
    "from tensorflow.keras import Sequential\n",
    "from tensorflow.keras.layers import Dense, Lambda, Layer, Embedding, LayerNormalization"
   ]
  },
  {
   "cell_type": "code",
   "execution_count": 2,
   "metadata": {
    "pycharm": {
     "name": "#%%\n"
    }
   },
   "outputs": [],
   "source": [
    "EPOCHS = 200\n",
    "NUM_WORDS = 2000"
   ]
  },
  {
   "cell_type": "code",
   "execution_count": 3,
   "outputs": [],
   "source": [
    "dataset_file = '../data/chatbot_data.csv' # acquired from 'http://www.aihub.or.kr' and modified\n",
    "okt = Okt()\n",
    "\n",
    "with open(dataset_file, 'r') as file:\n",
    "    lines = file.readlines()\n",
    "    # 형태소 단위로 저 카푸치노로 주문할게요 -> 저 카푸치노 로 주문 할게요\n",
    "    seq = [' '.join(okt.morphs(line)) for line in lines]\n",
    "\n",
    "# 질문 정답 나누기 chatbot\n",
    "questions = seq[::2] # {list : 500}\n",
    "answers = ['\\t ' + lines for lines in seq[1::2]] # {list : 500}\n",
    "\n",
    "num_sample = len(questions)\n",
    "\n",
    "\n",
    "perm = list(range(num_sample)) # idx\n",
    "random.seed(0)\n",
    "random.shuffle(perm)\n",
    "\n",
    "train_q = list() # {list : 399}\n",
    "train_a = list() # {list : 399}\n",
    "test_q = list() # {list : 101}\n",
    "test_a = list() # {list : 101}\n",
    "\n",
    "for idx, qna in enumerate(zip(questions, answers)):\n",
    "    q, a = qna\n",
    "    if perm[idx] > num_sample//5:\n",
    "        train_q.append(q)\n",
    "        train_a.append(a)\n",
    "    else:\n",
    "        test_q.append(q)\n",
    "        test_a.append(a)\n",
    "\n",
    "tokenizer = tf.keras.preprocessing.text.Tokenizer(num_words=NUM_WORDS,\n",
    "                                                  filters='!\"#$%&()*+,-./:;<=>?@[\\\\]^_`{|}~')\n",
    "\n",
    "tokenizer.fit_on_texts(train_q + train_a)\n",
    "\n",
    "train_q_seq = tokenizer.texts_to_sequences(train_q)\n",
    "train_a_seq = tokenizer.texts_to_sequences(train_a)\n",
    "\n",
    "test_q_seq = tokenizer.texts_to_sequences(test_q)\n",
    "test_a_seq = tokenizer.texts_to_sequences(test_a)\n",
    "\n",
    "x_train = tf.keras.preprocessing.sequence.pad_sequences(train_q_seq,\n",
    "                                                        value=0,\n",
    "                                                        padding='pre',\n",
    "                                                        maxlen=64)  # padding으로 size 맞춰주기\n",
    "y_train = tf.keras.preprocessing.sequence.pad_sequences(train_a_seq,\n",
    "                                                        value=0,\n",
    "                                                        padding='post',\n",
    "                                                        maxlen=65)\n",
    "y_train_shifted = np.concatenate([np.zeros((y_train.shape[0], 1)), y_train[:, 1:]], axis=1)\n",
    "\n",
    "\n",
    "x_test = tf.keras.preprocessing.sequence.pad_sequences(test_q_seq,\n",
    "                                                       value=0,\n",
    "                                                       padding='pre',\n",
    "                                                       maxlen=64)\n",
    "y_test = tf.keras.preprocessing.sequence.pad_sequences(test_a_seq,\n",
    "                                                       value=0,\n",
    "                                                       padding='post',\n",
    "                                                       maxlen=65)"
   ],
   "metadata": {
    "collapsed": false,
    "pycharm": {
     "name": "#%%\n"
    }
   }
  },
  {
   "cell_type": "code",
   "execution_count": 10,
   "outputs": [
    {
     "data": {
      "text/plain": "((101, 64), (101, 65))"
     },
     "execution_count": 10,
     "metadata": {},
     "output_type": "execute_result"
    }
   ],
   "source": [
    "x_test.shape , y_test.shape"
   ],
   "metadata": {
    "collapsed": false,
    "pycharm": {
     "name": "#%%\n"
    }
   }
  },
  {
   "cell_type": "markdown",
   "metadata": {
    "pycharm": {
     "name": "#%% md\n"
    }
   },
   "source": [
    "## Dot-Scaled Attention"
   ]
  },
  {
   "cell_type": "code",
   "execution_count": 4,
   "metadata": {
    "pycharm": {
     "name": "#%%\n"
    }
   },
   "outputs": [],
   "source": [
    "class DotScaledAttention(Layer):\n",
    "    # input 64 -> output d_reduced\n",
    "    def __init__(self, d_emb, d_reduced, masked=False):\n",
    "        super().__init__()\n",
    "        self.q = Dense(d_reduced , input_shape = (-1 , d_emb) )\n",
    "        self.k = Dense(d_reduced , input_shape = (-1 , d_emb) )\n",
    "        self.v = Dense(d_reduced , input_shape = (-1 , d_emb) )\n",
    "        self.scale = Lambda(lambda x : x/np.sqrt(d_reduced))\n",
    "        self.masked = masked\n",
    "\n",
    "    def call(self, x, training=None, mask=None): # (q,k,v)\n",
    "        q = self.scale(self.q(x[0]))\n",
    "        k = self.k(x[1])\n",
    "        v = self.v(x[2])\n",
    "\n",
    "        k_T = tf.transpose(k , perm = [0, 2, 1])\n",
    "        comp = tf.matmul(q , k_T)\n",
    "\n",
    "        if self.masked: # Referred from https://github.com/LastRemote/Transformer-TF2.0\n",
    "            length = tf.shape(comp)[-1]\n",
    "            mask = tf.fill((length, length), -np.inf)\n",
    "            mask = tf.linalg.band_part(mask, 0, -1) # Get upper triangle\n",
    "            mask = tf.linalg.set_diag(mask, tf.zeros((length))) # Set diagonal to zeros to avoid operations with infinity\n",
    "            comp += mask # -무한대 더해주기\n",
    "        comp = tf.nn.softmax(comp , axis = -1)\n",
    "        pass tf.matmul(comp , v)"
   ]
  },
  {
   "cell_type": "markdown",
   "metadata": {
    "pycharm": {
     "name": "#%% md\n"
    }
   },
   "source": [
    "## Multi-Head Attention"
   ]
  },
  {
   "cell_type": "code",
   "execution_count": 11,
   "metadata": {
    "pycharm": {
     "name": "#%%\n"
    }
   },
   "outputs": [],
   "source": [
    "class MultiHeadAttention(Layer):\n",
    "    def __init__(self, num_head, d_emb, d_reduced, masked=False):\n",
    "        super.__init__()\n",
    "        self.attention_list = list()\n",
    "        for _ in range(num_head):\n",
    "            self.attention_list.append(DotScaledAttention(d_emb , d_reduced , masked))\n",
    "        self.linear = Dense(d_emb , input_shape = (-1 , num_head * d_reduced))\n",
    "\n",
    "    def call(self, x, training=None, mask=None):\n",
    "        attention_list = [a(x) for a in self.attention_list]\n",
    "        concat = tf.concat(attention_list, axis = -1)\n",
    "        return self.linear(concat)"
   ]
  },
  {
   "cell_type": "markdown",
   "metadata": {
    "pycharm": {
     "name": "#%% md\n"
    }
   },
   "source": [
    "## Encoder"
   ]
  },
  {
   "cell_type": "code",
   "execution_count": 12,
   "metadata": {
    "pycharm": {
     "name": "#%%\n"
    }
   },
   "outputs": [],
   "source": [
    "class Encoder(Layer):\n",
    "    def __init__(self, num_head, d_reduced):\n",
    "        super().__init__()\n",
    "        self.num_head = num_head\n",
    "        self.d_r = d_reduced\n",
    "    \n",
    "    def build(self, input_shape):\n",
    "        self.multi_attention = MultiHeadAttention(self.num_head , input_shape[-1] , self.d_r)\n",
    "        self.layer_norm1 = LayerNormalization(input_shape = input_shape)\n",
    "        self.dense1 = Dense(input_shape[-1] * 4 , input_shape = input_shape , activation = 'relu')\n",
    "        self.dense2 = Dense(input_shape[-1] ,\n",
    "                            input_shape = self.dense1.compute_output_shape(input_shape))\n",
    "        self.layer_norm2 = LayerNormalization(input_shape = input_shape)\n",
    "        super().build(input_shape)\n",
    "\n",
    "    def call(self, x, training=None, mask=None):\n",
    "        h = self.multi_attention((x,x,x))\n",
    "        ln1 = self.layer_norm1(x + h)\n",
    "\n",
    "        h = self.dense2(self.dense1(ln1))\n",
    "        return self.layer_norm2(h + ln1)\n",
    "\n",
    "    def compute_output_shape(self, input_shape):\n",
    "        return input_shape"
   ]
  },
  {
   "cell_type": "markdown",
   "metadata": {
    "pycharm": {
     "name": "#%% md\n"
    }
   },
   "source": [
    "## Decoder"
   ]
  },
  {
   "cell_type": "code",
   "execution_count": 7,
   "metadata": {
    "pycharm": {
     "name": "#%%\n"
    }
   },
   "outputs": [],
   "source": [
    "class Decoder(Layer):\n",
    "    def __init__(self, num_head, d_reduced):\n",
    "        super().__init__()\n",
    "        self.num_head = num_head\n",
    "        self.d_r = d_reduced\n",
    "\n",
    "    def build(self, input_shape):\n",
    "        self.self_attention = MultiHeadAttention(self.num_head, input_shape[0][-1], self.d_r, masked=True)\n",
    "        self.layer_norm1 = LayerNormalization(input_shape=input_shape)\n",
    "\n",
    "        self.multi_attention = MultiHeadAttention(self.num_head, input_shape[0][-1], self.d_r)\n",
    "        self.layer_norm2 = LayerNormalization(input_shape=input_shape)\n",
    "\n",
    "        self.dense1 = Dense(input_shape[0][-1] * 4, input_shape=input_shape[0], activation='relu')\n",
    "        self.dense2 = Dense(input_shape[0][-1],\n",
    "                            input_shape=self.dense1.compute_output_shape(input_shape[0]))\n",
    "        self.layer_norm3 = LayerNormalization(input_shape=input_shape)\n",
    "        super().build(input_shape)\n",
    "\n",
    "    def call(self, inputs, training=None, mask=None): # (x, context)\n",
    "        x, context = inputs\n",
    "        h = self.self_attention((x, x, x))\n",
    "        ln1 = self.layer_norm1(x + h)\n",
    "\n",
    "        h = self.multi_attention((ln1, context, context))\n",
    "        ln2 = self.layer_norm2(ln1 + h)\n",
    "\n",
    "        h = self.dense2(self.dense1(ln2))\n",
    "        return self.layer_norm3(h + ln2)\n",
    "\n",
    "    def compute_output_shape(self, input_shape):\n",
    "        return input_shape"
   ]
  },
  {
   "cell_type": "markdown",
   "metadata": {
    "pycharm": {
     "name": "#%% md\n"
    }
   },
   "source": [
    "## Positional Encoding"
   ]
  },
  {
   "cell_type": "code",
   "execution_count": 8,
   "metadata": {
    "pycharm": {
     "name": "#%%\n"
    }
   },
   "outputs": [],
   "source": [
    "class PositionalEncoding(Layer):  # Referred from https://github.com/LastRemote/Transformer-TF2.0\n",
    "    def __init__(self, max_len, d_emb):\n",
    "        super().__init__()\n",
    "        self.sinusoidal_encoding = np.array([self.get_positional_angle(pos, d_emb) for pos in range(max_len)], dtype=np.float32)\n",
    "        self.sinusoidal_encoding[:, 0::2] = np.sin(self.sinusoidal_encoding[:, 0::2])\n",
    "        self.sinusoidal_encoding[:, 1::2] = np.cos(self.sinusoidal_encoding[:, 1::2])\n",
    "        self.sinusoidal_encoding = tf.cast(self.sinusoidal_encoding, dtype=tf.float32)\n",
    "\n",
    "    def call(self, x, training=None, mask=None):\n",
    "        return x + self.sinusoidal_encoding[:tf.shape(x)[1]]\n",
    "\n",
    "    def compute_output_shape(self, input_shape):\n",
    "        return input_shape\n",
    "\n",
    "    def get_angle(self, pos, dim, d_emb):\n",
    "        return pos / np.power(10000, 2 * (dim // 2) / d_emb)\n",
    "\n",
    "    def get_positional_angle(self, pos, d_emb):\n",
    "        return [self.get_angle(pos, dim, d_emb) for dim in range(d_emb)]"
   ]
  },
  {
   "cell_type": "markdown",
   "metadata": {
    "pycharm": {
     "name": "#%% md\n"
    }
   },
   "source": [
    "## Transformer Architecture"
   ]
  },
  {
   "cell_type": "code",
   "execution_count": 9,
   "metadata": {
    "pycharm": {
     "name": "#%%\n"
    }
   },
   "outputs": [],
   "source": [
    "class Transformer(Model):\n",
    "    def __init__(self, src_vocab, dst_vocab, max_len, d_emb, d_reduced, n_enc_layer, n_dec_layer, num_head):\n",
    "        super().__init__()\n",
    "        pass\n",
    "\n",
    "    def call(self, inputs, training=None, mask=None):\n",
    "        pass"
   ]
  },
  {
   "cell_type": "markdown",
   "metadata": {
    "pycharm": {
     "name": "#%% md\n"
    }
   },
   "source": [
    "## Dataset 준비"
   ]
  },
  {
   "cell_type": "code",
   "execution_count": 8,
   "metadata": {
    "pycharm": {
     "name": "#%%\n"
    }
   },
   "outputs": [],
   "source": []
  },
  {
   "cell_type": "markdown",
   "metadata": {
    "pycharm": {
     "name": "#%% md\n"
    }
   },
   "source": [
    "## Train using keras"
   ]
  },
  {
   "cell_type": "code",
   "execution_count": null,
   "metadata": {
    "pycharm": {
     "name": "#%%\n"
    }
   },
   "outputs": [
    {
     "name": "stdout",
     "output_type": "stream",
     "text": [
      "Train on 399 samples\n",
      "Epoch 1/200\n",
      "399/399 [==============================] - 9s 22ms/sample - loss: 5.9527 - accuracy: 0.8479\n",
      "Epoch 2/200\n",
      "399/399 [==============================] - 1s 4ms/sample - loss: 2.7419 - accuracy: 0.8900\n",
      "Epoch 3/200\n",
      "399/399 [==============================] - 2s 4ms/sample - loss: 1.0273 - accuracy: 0.8900\n",
      "Epoch 4/200\n",
      "399/399 [==============================] - 1s 4ms/sample - loss: 0.7265 - accuracy: 0.8900\n",
      "Epoch 5/200\n",
      "399/399 [==============================] - 1s 3ms/sample - loss: 0.6082 - accuracy: 0.8991\n",
      "Epoch 6/200\n",
      "399/399 [==============================] - 1s 3ms/sample - loss: 0.5347 - accuracy: 0.9207\n",
      "Epoch 7/200\n",
      "399/399 [==============================] - 1s 3ms/sample - loss: 0.4885 - accuracy: 0.9238\n",
      "Epoch 8/200\n",
      "399/399 [==============================] - 1s 3ms/sample - loss: 0.4585 - accuracy: 0.9265\n",
      "Epoch 9/200\n",
      "399/399 [==============================] - 1s 3ms/sample - loss: 0.4344 - accuracy: 0.9265\n",
      "Epoch 10/200\n",
      "399/399 [==============================] - 1s 4ms/sample - loss: 0.4110 - accuracy: 0.9277\n",
      "Epoch 11/200\n",
      "399/399 [==============================] - 1s 4ms/sample - loss: 0.3900 - accuracy: 0.9310\n",
      "Epoch 12/200\n",
      "399/399 [==============================] - 1s 4ms/sample - loss: 0.3678 - accuracy: 0.9334\n",
      "Epoch 13/200\n",
      "399/399 [==============================] - 1s 3ms/sample - loss: 0.3482 - accuracy: 0.9361\n",
      "Epoch 14/200\n",
      "399/399 [==============================] - 1s 3ms/sample - loss: 0.3275 - accuracy: 0.9402\n",
      "Epoch 15/200\n",
      "399/399 [==============================] - 1s 4ms/sample - loss: 0.3075 - accuracy: 0.9444\n",
      "Epoch 16/200\n",
      "399/399 [==============================] - 1s 3ms/sample - loss: 0.2891 - accuracy: 0.9481\n",
      "Epoch 17/200\n",
      "399/399 [==============================] - 1s 3ms/sample - loss: 0.2717 - accuracy: 0.9525\n",
      "Epoch 18/200\n",
      "399/399 [==============================] - 1s 4ms/sample - loss: 0.2546 - accuracy: 0.9569\n",
      "Epoch 19/200\n",
      "399/399 [==============================] - 1s 3ms/sample - loss: 0.2391 - accuracy: 0.9595\n",
      "Epoch 20/200\n",
      "399/399 [==============================] - 1s 3ms/sample - loss: 0.2254 - accuracy: 0.9623\n",
      "Epoch 21/200\n",
      "399/399 [==============================] - 1s 3ms/sample - loss: 0.2122 - accuracy: 0.9635\n",
      "Epoch 22/200\n",
      "399/399 [==============================] - 1s 4ms/sample - loss: 0.1992 - accuracy: 0.9656\n",
      "Epoch 23/200\n",
      "399/399 [==============================] - 1s 3ms/sample - loss: 0.1859 - accuracy: 0.9677\n",
      "Epoch 24/200\n",
      "170/399 [===========>..................] - ETA: 0s - loss: 0.1683 - accuracy: 0.9717"
     ]
    }
   ],
   "source": [
    "transformer = Transformer(NUM_WORDS, NUM_WORDS, 128, 16, 16, 2, 2, 4) # Instantiating a new transformer model\n",
    "\n",
    "transformer.compile(optimizer='adam',\n",
    "              loss='sparse_categorical_crossentropy',\n",
    "              metrics=['accuracy'])\n",
    "transformer.fit([x_train, y_train_shifted], y_train, batch_size=5, epochs=EPOCHS)"
   ]
  }
 ],
 "metadata": {
  "kernelspec": {
   "display_name": "base",
   "language": "python",
   "name": "python3"
  },
  "language_info": {
   "codemirror_mode": {
    "name": "ipython",
    "version": 3
   },
   "file_extension": ".py",
   "mimetype": "text/x-python",
   "name": "python",
   "nbconvert_exporter": "python",
   "pygments_lexer": "ipython3",
   "version": "3.9.12"
  },
  "vscode": {
   "interpreter": {
    "hash": "a720ff50f79be6f659d53c55cd5e941ae6df0958152cb846493b4bee63fd4c83"
   }
  }
 },
 "nbformat": 4,
 "nbformat_minor": 2
}